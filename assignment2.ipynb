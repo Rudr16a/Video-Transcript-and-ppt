{
  "nbformat": 4,
  "nbformat_minor": 0,
  "metadata": {
    "colab": {
      "provenance": [],
      "authorship_tag": "ABX9TyNdd0GBkyT2yJyJnbHwHgl0",
      "include_colab_link": true
    },
    "kernelspec": {
      "name": "python3",
      "display_name": "Python 3"
    },
    "language_info": {
      "name": "python"
    }
  },
  "cells": [
    {
      "cell_type": "markdown",
      "metadata": {
        "id": "view-in-github",
        "colab_type": "text"
      },
      "source": [
        "<a href=\"https://colab.research.google.com/github/Rudr16a/Video-Transcript-and-ppt/blob/main/assignment2.ipynb\" target=\"_parent\"><img src=\"https://colab.research.google.com/assets/colab-badge.svg\" alt=\"Open In Colab\"/></a>"
      ]
    },
    {
      "cell_type": "code",
      "source": [
        "!pip install opencv-python\n",
        "!pip install numpy\n",
        "!pip install json"
      ],
      "metadata": {
        "colab": {
          "base_uri": "https://localhost:8080/"
        },
        "collapsed": true,
        "id": "dT9Jwp28-kF8",
        "outputId": "73c04db5-cb9f-4d2a-a4ae-c8f409086fcc"
      },
      "execution_count": 1,
      "outputs": [
        {
          "output_type": "stream",
          "name": "stdout",
          "text": [
            "Requirement already satisfied: opencv-python in /usr/local/lib/python3.10/dist-packages (4.10.0.84)\n",
            "Requirement already satisfied: numpy>=1.21.2 in /usr/local/lib/python3.10/dist-packages (from opencv-python) (1.26.4)\n",
            "Requirement already satisfied: numpy in /usr/local/lib/python3.10/dist-packages (1.26.4)\n",
            "\u001b[31mERROR: Could not find a version that satisfies the requirement json (from versions: none)\u001b[0m\u001b[31m\n",
            "\u001b[0m\u001b[31mERROR: No matching distribution found for json\u001b[0m\u001b[31m\n",
            "\u001b[0m"
          ]
        }
      ]
    },
    {
      "cell_type": "code",
      "execution_count": 8,
      "metadata": {
        "colab": {
          "base_uri": "https://localhost:8080/"
        },
        "id": "N_rZ0r9N-Z1O",
        "outputId": "4bc3397d-c0cd-4141-a8f5-b5aef0f4507d"
      },
      "outputs": [
        {
          "output_type": "stream",
          "name": "stdout",
          "text": [
            "Loading image...\n",
            "Preprocessing image...\n",
            "Identifying and coloring pillars...\n",
            "Saving colored image...\n",
            "Saving boundary points...\n",
            "Process completed successfully!\n",
            "Colored image saved at: output_image.jpg\n",
            "Boundary points saved at: boundary_points.json\n"
          ]
        }
      ],
      "source": [
        "import cv2\n",
        "import numpy as np\n",
        "import json\n",
        "\n",
        "# Step 1: Read the input image\n",
        "def load_image(image_path):\n",
        "    image = cv2.imread(\"/content/image.png\")\n",
        "    if image is None:\n",
        "        raise FileNotFoundError(f\"Image not found at {image_path}\")\n",
        "    return image\n",
        "\n",
        "# Step 2: Preprocess the image (convert to grayscale and apply threshold)\n",
        "def preprocess_image(image):\n",
        "    gray = cv2.cvtColor(image, cv2.COLOR_BGR2GRAY)\n",
        "    _, binary = cv2.threshold(gray, 128, 255, cv2.THRESH_BINARY_INV)\n",
        "    return binary\n",
        "\n",
        "# Step 3: Identify and color each pillar/column\n",
        "def identify_and_color_pillars(binary_image, original_image):\n",
        "    contours, _ = cv2.findContours(binary_image, cv2.RETR_EXTERNAL, cv2.CHAIN_APPROX_SIMPLE)\n",
        "    color_image = original_image.copy()\n",
        "    boundary_points = []\n",
        "\n",
        "    for i, contour in enumerate(contours):\n",
        "        color = tuple(np.random.randint(0, 255, size=3).tolist())  # Random color\n",
        "        cv2.drawContours(color_image, [contour], -1, color, -1)  # Fill contour with color\n",
        "\n",
        "        # Extract boundary points of the contour\n",
        "        points = contour.reshape(-1, 2).tolist()\n",
        "        boundary_points.append({\n",
        "            \"pillar_id\": i + 1,\n",
        "            \"boundary_points\": points\n",
        "        })\n",
        "\n",
        "    return color_image, boundary_points\n",
        "\n",
        "# Step 4: Save the boundary points to a JSON file\n",
        "def save_boundary_points(boundary_points, output_path):\n",
        "    with open(output_path, 'w') as f:\n",
        "        json.dump(boundary_points, f, indent=4)\n",
        "\n",
        "# Step 5: Main function\n",
        "def main():\n",
        "    image_path = \"/content/image.png\"  # Path to input image\n",
        "    output_image_path = \"output_image.jpg\"  # Path for output colored image\n",
        "    boundary_points_path = \"boundary_points.json\"  # Path for output boundary points JSON\n",
        "\n",
        "    # Load the input image\n",
        "    print(\"Loading image...\")\n",
        "    image = load_image(image_path)\n",
        "\n",
        "    # Preprocess the image\n",
        "    print(\"Preprocessing image...\")\n",
        "    binary_image = preprocess_image(image)\n",
        "\n",
        "    # Identify and color pillars\n",
        "    print(\"Identifying and coloring pillars...\")\n",
        "    colored_image, boundary_points = identify_and_color_pillars(binary_image, image)\n",
        "\n",
        "    # Save the output colored image\n",
        "    print(\"Saving colored image...\")\n",
        "    cv2.imwrite(output_image_path, colored_image)\n",
        "\n",
        "    # Save boundary points as JSON\n",
        "    print(\"Saving boundary points...\")\n",
        "    save_boundary_points(boundary_points, boundary_points_path)\n",
        "\n",
        "    print(\"Process completed successfully!\")\n",
        "    print(f\"Colored image saved at: {output_image_path}\")\n",
        "    print(f\"Boundary points saved at: {boundary_points_path}\")\n",
        "\n",
        "if __name__ == \"__main__\":\n",
        "    main()\n"
      ]
    },
    {
      "cell_type": "code",
      "source": [],
      "metadata": {
        "id": "je_1aE1k-4Gm"
      },
      "execution_count": null,
      "outputs": []
    }
  ]
}